{
 "cells": [
  {
   "cell_type": "markdown",
   "metadata": {},
   "source": [
    "## WARMUP - KEYWORDS"
   ]
  },
  {
   "cell_type": "markdown",
   "metadata": {
    "collapsed": true
   },
   "source": [
    "FYI There a module called 'keyword' in python.\n",
    "\n",
    "During the last class I mentioned that you can use the dir() built in function to inspect Python objects.\n",
    "\n",
    "Inspect the keyword module.\n",
    "Print the full list Python's keywords, sorted in alphabetical order, separated by a single space.\n",
    "\n",
    "\n"
   ]
  },
  {
   "cell_type": "markdown",
   "metadata": {},
   "source": [
    "Create a set called *all_keywords* from the keyword list.\n",
    "\n",
    "Most words in the *all_keywords* set are used toghether in Python in some way.\n",
    "\n",
    "Create separate, suitably named Python subsets from the words in *all_keywords* grouping them according to their Python usage\n"
   ]
  },
  {
   "cell_type": "code",
   "execution_count": 1,
   "metadata": {},
   "outputs": [],
   "source": [
    "import keyword"
   ]
  },
  {
   "cell_type": "code",
   "execution_count": 2,
   "metadata": {},
   "outputs": [
    {
     "data": {
      "text/plain": [
       "module"
      ]
     },
     "execution_count": 2,
     "metadata": {},
     "output_type": "execute_result"
    }
   ],
   "source": [
    "type(keyword)"
   ]
  },
  {
   "cell_type": "code",
   "execution_count": 4,
   "metadata": {},
   "outputs": [
    {
     "data": {
      "text/plain": [
       "['__all__',\n",
       " '__builtins__',\n",
       " '__cached__',\n",
       " '__doc__',\n",
       " '__file__',\n",
       " '__loader__',\n",
       " '__name__',\n",
       " '__package__',\n",
       " '__spec__',\n",
       " 'iskeyword',\n",
       " 'kwlist',\n",
       " 'main']"
      ]
     },
     "execution_count": 4,
     "metadata": {},
     "output_type": "execute_result"
    }
   ],
   "source": [
    "dir(keyword)"
   ]
  },
  {
   "cell_type": "raw",
   "metadata": {},
   "source": [
    "dir(keyword.kwlist)"
   ]
  },
  {
   "cell_type": "code",
   "execution_count": 36,
   "metadata": {},
   "outputs": [
    {
     "name": "stdout",
     "output_type": "stream",
     "text": [
      "['False', 'None', 'True', 'and', 'as', 'assert', 'break', 'class', 'continue', 'def', 'del', 'elif', 'else', 'except', 'finally', 'for', 'from', 'global', 'if', 'import', 'in', 'is', 'lambda', 'nonlocal', 'not', 'or', 'pass', 'raise', 'return', 'try', 'while', 'with', 'yield']\n"
     ]
    }
   ],
   "source": [
    "keys = sorted(keyword.kwlist)\n",
    "print(keys, sep=' ')"
   ]
  },
  {
   "cell_type": "code",
   "execution_count": 37,
   "metadata": {},
   "outputs": [
    {
     "data": {
      "text/plain": [
       "{'False',\n",
       " 'None',\n",
       " 'True',\n",
       " 'and',\n",
       " 'as',\n",
       " 'assert',\n",
       " 'break',\n",
       " 'class',\n",
       " 'continue',\n",
       " 'def',\n",
       " 'del',\n",
       " 'elif',\n",
       " 'else',\n",
       " 'except',\n",
       " 'finally',\n",
       " 'for',\n",
       " 'from',\n",
       " 'global',\n",
       " 'if',\n",
       " 'import',\n",
       " 'in',\n",
       " 'is',\n",
       " 'lambda',\n",
       " 'nonlocal',\n",
       " 'not',\n",
       " 'or',\n",
       " 'pass',\n",
       " 'raise',\n",
       " 'return',\n",
       " 'try',\n",
       " 'while',\n",
       " 'with',\n",
       " 'yield'}"
      ]
     },
     "execution_count": 37,
     "metadata": {},
     "output_type": "execute_result"
    }
   ],
   "source": [
    "all_keywords = set(keys)\n",
    "all_keywords"
   ]
  },
  {
   "cell_type": "code",
   "execution_count": 33,
   "metadata": {},
   "outputs": [
    {
     "data": {
      "text/plain": [
       "['False',\n",
       " 'None',\n",
       " 'True',\n",
       " 'and',\n",
       " 'as',\n",
       " 'assert',\n",
       " 'break',\n",
       " 'class',\n",
       " 'continue',\n",
       " 'def',\n",
       " 'del',\n",
       " 'elif',\n",
       " 'else',\n",
       " 'except',\n",
       " 'finally',\n",
       " 'for',\n",
       " 'from',\n",
       " 'global',\n",
       " 'if',\n",
       " 'import',\n",
       " 'in',\n",
       " 'is',\n",
       " 'lambda',\n",
       " 'nonlocal',\n",
       " 'not',\n",
       " 'or',\n",
       " 'pass',\n",
       " 'raise',\n",
       " 'return',\n",
       " 'try',\n",
       " 'while',\n",
       " 'with',\n",
       " 'yield']"
      ]
     },
     "execution_count": 33,
     "metadata": {},
     "output_type": "execute_result"
    }
   ],
   "source": [
    "sub_set = {\n",
    "boolean_set: {'False', 'True'}\n",
    "undefined_set: {'None'}\n",
    "logical_operators: {'and', 'or', 'not', 'is'}\n",
    "compareasion: {'if', 'else', 'else if', }\n",
    "basic_exceptions: {'try', 'except', 'continue', 'break'}\n",
    "finctions: {'lamda', 'return'}\n",
    "loops: {'while',''}\n",
    "}"
   ]
  },
  {
   "cell_type": "markdown",
   "metadata": {},
   "source": [
    "## Functions\n"
   ]
  },
  {
   "cell_type": "markdown",
   "metadata": {},
   "source": [
    "Most of your future career as a data scientist will be spent both writing functions and using So, let's start with a quick review."
   ]
  },
  {
   "cell_type": "markdown",
   "metadata": {},
   "source": [
    "Functions take zero or more parameters passed either as positional arguments or keywords according to the function definition. The writer of the function gets to decide.\n",
    "\n",
    "Functions are allowed return a native Python object, a custom-created object or class, another function, or None. \n"
   ]
  },
  {
   "cell_type": "code",
   "execution_count": 35,
   "metadata": {},
   "outputs": [],
   "source": [
    "#let's define a couple of simple functions\n",
    "\n",
    "def hello(name):\n",
    "    return print(\"Hello\",name)\n",
    "\n",
    "def double(n):\n",
    "    return n*2\n",
    "\n",
    "def triple1(lst):\n",
    "    ans = []\n",
    "    for item in lst:\n",
    "        ans.append(item * 3)\n",
    "    return ans\n",
    "\n",
    "def triple2(iterable): #using list comprehension\n",
    "    return [item * 3 for item in iterable]\n",
    "\n",
    "import numpy as np\n",
    "def get_random_point():\n",
    "    x = np.random.randint(10) # generates int from 0 to 9\n",
    "    y = np.random.randint(10)\n",
    "    return x, y\n",
    "    # Tuble (comma not the pranthesis)\n",
    "\n",
    "#NB: this is a function that returns another function\n",
    "#google Python decorators for further details or see Python problems on hackerrank.com\n",
    "def decorate(f):\n",
    "    def inner():\n",
    "        print(\"You passed in the value\", f)\n",
    "    return inner\n",
    "    \n",
    "    \n",
    "    "
   ]
  },
  {
   "cell_type": "code",
   "execution_count": 16,
   "metadata": {},
   "outputs": [
    {
     "name": "stdout",
     "output_type": "stream",
     "text": [
      "Hello Sean\n"
     ]
    }
   ],
   "source": [
    "hello(\"Sean\")"
   ]
  },
  {
   "cell_type": "code",
   "execution_count": 20,
   "metadata": {},
   "outputs": [
    {
     "data": {
      "text/plain": [
       "198"
      ]
     },
     "execution_count": 20,
     "metadata": {},
     "output_type": "execute_result"
    }
   ],
   "source": [
    "double(99)"
   ]
  },
  {
   "cell_type": "code",
   "execution_count": 21,
   "metadata": {},
   "outputs": [
    {
     "data": {
      "text/plain": [
       "'SeanSean'"
      ]
     },
     "execution_count": 21,
     "metadata": {},
     "output_type": "execute_result"
    }
   ],
   "source": [
    "double(\"Sean\")"
   ]
  },
  {
   "cell_type": "code",
   "execution_count": 23,
   "metadata": {},
   "outputs": [
    {
     "data": {
      "text/plain": [
       "[3, 6, 9, 12, 15, 18, 21, 24, 27]"
      ]
     },
     "execution_count": 23,
     "metadata": {},
     "output_type": "execute_result"
    }
   ],
   "source": [
    "triple1([1,2,3,4,5,6,7,8,9])"
   ]
  },
  {
   "cell_type": "code",
   "execution_count": 26,
   "metadata": {},
   "outputs": [
    {
     "ename": "TypeError",
     "evalue": "triple2() takes 1 positional argument but 9 were given",
     "output_type": "error",
     "traceback": [
      "\u001b[0;31m---------------------------------------------------------------------------\u001b[0m",
      "\u001b[0;31mTypeError\u001b[0m                                 Traceback (most recent call last)",
      "\u001b[0;32m<ipython-input-26-3aaf8cba71b1>\u001b[0m in \u001b[0;36m<module>\u001b[0;34m()\u001b[0m\n\u001b[0;32m----> 1\u001b[0;31m \u001b[0mtriple2\u001b[0m\u001b[0;34m(\u001b[0m\u001b[0;36m0\u001b[0m\u001b[0;34m,\u001b[0m\u001b[0;36m1\u001b[0m\u001b[0;34m,\u001b[0m\u001b[0;36m2\u001b[0m\u001b[0;34m,\u001b[0m\u001b[0;36m3\u001b[0m\u001b[0;34m,\u001b[0m\u001b[0;36m4\u001b[0m\u001b[0;34m,\u001b[0m\u001b[0;36m5\u001b[0m\u001b[0;34m,\u001b[0m\u001b[0;36m6\u001b[0m\u001b[0;34m,\u001b[0m\u001b[0;36m7\u001b[0m\u001b[0;34m,\u001b[0m\u001b[0;36m8\u001b[0m\u001b[0;34m)\u001b[0m\u001b[0;34m\u001b[0m\u001b[0m\n\u001b[0m",
      "\u001b[0;31mTypeError\u001b[0m: triple2() takes 1 positional argument but 9 were given"
     ]
    }
   ],
   "source": [
    "triple2(0,1,2,3,4,5,6,7,8)"
   ]
  },
  {
   "cell_type": "code",
   "execution_count": 27,
   "metadata": {},
   "outputs": [
    {
     "data": {
      "text/plain": [
       "[0, 3, 6, 9, 12, 15, 18, 21, 24]"
      ]
     },
     "execution_count": 27,
     "metadata": {},
     "output_type": "execute_result"
    }
   ],
   "source": [
    "triple2([0,1,2,3,4,5,6,7,8]) #must pass in only one iterable object, such as a list"
   ]
  },
  {
   "cell_type": "code",
   "execution_count": 37,
   "metadata": {},
   "outputs": [
    {
     "data": {
      "text/plain": [
       "[0, 3, 6, 9, 12, 15, 18, 21, 24, 27, 30, 33, 36, 39, 42, 45, 48, 51, 54, 57]"
      ]
     },
     "execution_count": 37,
     "metadata": {},
     "output_type": "execute_result"
    }
   ],
   "source": [
    "triple2(range(20))"
   ]
  },
  {
   "cell_type": "code",
   "execution_count": 40,
   "metadata": {},
   "outputs": [
    {
     "name": "stdout",
     "output_type": "stream",
     "text": [
      "The function get_random_point returned (8, 4).       \n",
      "The type of this object is <class 'tuple'>.\n"
     ]
    }
   ],
   "source": [
    "point = get_random_point()\n",
    "print(\"The function get_random_point returned {}. \\\n",
    "      \\nThe type of this object is {}.\".format(point, type(point)))"
   ]
  },
  {
   "cell_type": "markdown",
   "metadata": {},
   "source": [
    "### Functions may also have zero or more keyword arguments that start after any positional arguments.\n",
    "#### Keyword arguments are *required* unless there is a default value in the function definition. \n",
    "#### If there is a default value, the key word is optional. "
   ]
  },
  {
   "cell_type": "markdown",
   "metadata": {},
   "source": [
    "See, for example, the 'sorted' built-in function\n",
    "\n",
    "Signature: sorted(iterable, key=None, reverse=False)\n",
    "// key takes a function\n",
    "\n",
    "Docstring:\n",
    "Return a new list containing all items from the iterable in ascending order. A custom key function can be supplied to customize the sort order, and the\n",
    "reverse flag can be set to request the result in descending order."
   ]
  },
  {
   "cell_type": "code",
   "execution_count": 2,
   "metadata": {},
   "outputs": [],
   "source": [
    "import sklearn.linear_model as lm"
   ]
  },
  {
   "cell_type": "code",
   "execution_count": 5,
   "metadata": {},
   "outputs": [],
   "source": [
    "reg1 = lm.LinearRegression()"
   ]
  },
  {
   "cell_type": "code",
   "execution_count": 6,
   "metadata": {},
   "outputs": [
    {
     "data": {
      "text/plain": [
       "sklearn.linear_model.base.LinearRegression"
      ]
     },
     "execution_count": 6,
     "metadata": {},
     "output_type": "execute_result"
    }
   ],
   "source": [
    "type(reg1)"
   ]
  },
  {
   "cell_type": "markdown",
   "metadata": {},
   "source": [
    "docstring String form: LinearRegression(copy_X=True, fit_intercept=True, n_jobs=1, normalize=False)"
   ]
  },
  {
   "cell_type": "code",
   "execution_count": 7,
   "metadata": {},
   "outputs": [],
   "source": [
    "reg2 = lm.LogisticRegression()"
   ]
  },
  {
   "cell_type": "code",
   "execution_count": 8,
   "metadata": {},
   "outputs": [
    {
     "data": {
      "text/plain": [
       "sklearn.linear_model.logistic.LogisticRegression"
      ]
     },
     "execution_count": 8,
     "metadata": {},
     "output_type": "execute_result"
    }
   ],
   "source": [
    "type(reg2)"
   ]
  },
  {
   "cell_type": "markdown",
   "metadata": {},
   "source": [
    "docstring   LogisticRegression(C=1.0, class_weight=None, dual=False, fit_intercept=True,\n",
    "           random_state=None, solver='liblinear', tol=0.0001,\n",
    "           verbose=0, warm_start=False)"
   ]
  },
  {
   "cell_type": "code",
   "execution_count": null,
   "metadata": {},
   "outputs": [],
   "source": []
  },
  {
   "cell_type": "markdown",
   "metadata": {},
   "source": [
    "## Exercises"
   ]
  },
  {
   "cell_type": "code",
   "execution_count": 7,
   "metadata": {},
   "outputs": [
    {
     "data": {
      "text/plain": [
       "29"
      ]
     },
     "execution_count": 7,
     "metadata": {},
     "output_type": "execute_result"
    }
   ],
   "source": [
    "'''\n",
    "Write a function that accepts no parameters and returns a random integer between 0 and 98, \n",
    "not inclusive\n",
    ">> get_int_up_to_98()\n",
    "\n",
    "97\n",
    "'''\n",
    "import random\n",
    "\n",
    "def get_int_up_to_98():\n",
    "    return random.randint(1,97)\n",
    "\n",
    "get_int_up_to_98()"
   ]
  },
  {
   "cell_type": "code",
   "execution_count": null,
   "metadata": {},
   "outputs": [],
   "source": [
    "from random import randint\n",
    "def get_int_up_to_98():\n",
    "    return randint(1,97)"
   ]
  },
  {
   "cell_type": "code",
   "execution_count": null,
   "metadata": {},
   "outputs": [],
   "source": [
    "'''\n",
    "Write a function called odd that odd returns True if a number is odd\n",
    "\n",
    ">>even(1002)\n",
    "\n",
    "True\n",
    "\n",
    "Write a function called even that returns True if a number is even\n",
    "\n",
    ">>odd(1003)\n",
    "\n",
    "False\n",
    "'''"
   ]
  },
  {
   "cell_type": "code",
   "execution_count": 4,
   "metadata": {},
   "outputs": [
    {
     "data": {
      "text/plain": [
       "' How to do this shorthand'"
      ]
     },
     "execution_count": 4,
     "metadata": {},
     "output_type": "execute_result"
    }
   ],
   "source": [
    "def odd(number):\n",
    "    return False if number%2==0 else True\n",
    "\n",
    "def even(number):\n",
    "    return True if number%2==0 else False\n",
    "\n",
    "''' How to do this shorthand'''"
   ]
  },
  {
   "cell_type": "code",
   "execution_count": 5,
   "metadata": {},
   "outputs": [
    {
     "data": {
      "text/plain": [
       "False"
      ]
     },
     "execution_count": 5,
     "metadata": {},
     "output_type": "execute_result"
    }
   ],
   "source": [
    "odd(6)"
   ]
  },
  {
   "cell_type": "code",
   "execution_count": 6,
   "metadata": {},
   "outputs": [
    {
     "data": {
      "text/plain": [
       "True"
      ]
     },
     "execution_count": 6,
     "metadata": {},
     "output_type": "execute_result"
    }
   ],
   "source": [
    "even(6)"
   ]
  },
  {
   "cell_type": "code",
   "execution_count": null,
   "metadata": {},
   "outputs": [],
   "source": [
    "'''\n",
    "Write a function that accepts an integer N > 1 \n",
    "and returns a random integer between 1 and N (inclusive)\n",
    ">>> get_random_int(33)\n",
    "\n",
    "32\n",
    "'''"
   ]
  },
  {
   "cell_type": "code",
   "execution_count": 49,
   "metadata": {},
   "outputs": [],
   "source": [
    "import random\n",
    "\n",
    "def get_random_int():\n",
    "    N = int(input('Enter a number that is greater than 1: '))\n",
    "    return random.randint(1,N)\n",
    "    "
   ]
  },
  {
   "cell_type": "code",
   "execution_count": 50,
   "metadata": {},
   "outputs": [
    {
     "name": "stdout",
     "output_type": "stream",
     "text": [
      "Enter a number that is greater than 1: 9\n"
     ]
    },
    {
     "data": {
      "text/plain": [
       "4"
      ]
     },
     "execution_count": 50,
     "metadata": {},
     "output_type": "execute_result"
    }
   ],
   "source": [
    "get_random_int()"
   ]
  },
  {
   "cell_type": "code",
   "execution_count": null,
   "metadata": {},
   "outputs": [],
   "source": [
    "'''\n",
    "Write a function that accepts a Python list as input and returns a new list in ascending order\n",
    ">>> a = [0,54, 4, 7, 29,18]\n",
    ">>> reverse_list(a)\n",
    "[54,29,18,7,4,0]\n",
    "\n",
    ">>> a\n",
    "[0,54, 4, 7, 29,18]\n",
    "'''"
   ]
  },
  {
   "cell_type": "code",
   "execution_count": 9,
   "metadata": {},
   "outputs": [],
   "source": [
    "def reverse_list(a):\n",
    "    return a.sort(reverse=False)"
   ]
  },
  {
   "cell_type": "code",
   "execution_count": 12,
   "metadata": {},
   "outputs": [
    {
     "data": {
      "text/plain": [
       "[0, 4, 7, 18, 29, 54]"
      ]
     },
     "execution_count": 12,
     "metadata": {},
     "output_type": "execute_result"
    }
   ],
   "source": [
    "a = [54,29,18,7,4,0]\n",
    "reverse_list(a)\n",
    "a"
   ]
  },
  {
   "cell_type": "code",
   "execution_count": null,
   "metadata": {},
   "outputs": [],
   "source": [
    "'''Write a function that accepts two lists as input \n",
    "and returns a dictionary \n",
    "with the first list as the keys and the second as the values.\n",
    "\n",
    ">>> get_dict([\"NY\",\"NJ\", \"CT\"],[\"Albany\", \"Trenton\", \"Hartford\"])\n",
    "\n",
    "{\"NY\":\"Albany\", \"NJ\":\"Trenton\", \"CT\":\"Hartford\"}\n",
    "'''"
   ]
  },
  {
   "cell_type": "code",
   "execution_count": 19,
   "metadata": {},
   "outputs": [
    {
     "data": {
      "text/plain": [
       "{'CT': 'Hartford', 'NJ': 'Trenton', 'NY': 'Albany'}"
      ]
     },
     "execution_count": 19,
     "metadata": {},
     "output_type": "execute_result"
    }
   ],
   "source": [
    "def get_dict(list1, list2):\n",
    "    comb = dict()\n",
    "    for i in range(len(list1)):\n",
    "        comb[list1[i]] = list2[i] \n",
    "    return comb\n",
    "\n",
    "get_dict([\"NY\",\"NJ\", \"CT\"],[\"Albany\", \"Trenton\", \"Hartford\"])"
   ]
  },
  {
   "cell_type": "code",
   "execution_count": 23,
   "metadata": {},
   "outputs": [
    {
     "name": "stdout",
     "output_type": "stream",
     "text": [
      "NY Albany\n",
      "NJ Trenton\n",
      "CT Hartford\n"
     ]
    }
   ],
   "source": [
    "l, r = [\"NY\",\"NJ\", \"CT\"], [\"Albany\", \"Trenton\", \"Hartford\"]\n",
    "\n",
    "for lval, rval in zip(l,r):\n",
    "    print(lval,rval)"
   ]
  },
  {
   "cell_type": "code",
   "execution_count": 24,
   "metadata": {},
   "outputs": [
    {
     "data": {
      "text/plain": [
       "zip"
      ]
     },
     "execution_count": 24,
     "metadata": {},
     "output_type": "execute_result"
    }
   ],
   "source": [
    "type(zip(l,r))"
   ]
  },
  {
   "cell_type": "code",
   "execution_count": 26,
   "metadata": {},
   "outputs": [
    {
     "data": {
      "text/plain": [
       "{'CT': 'Hartford', 'NJ': 'Trenton', 'NY': 'Albany'}"
      ]
     },
     "execution_count": 26,
     "metadata": {},
     "output_type": "execute_result"
    }
   ],
   "source": [
    "def get_dict(list1, list2):\n",
    "    comb = dict()\n",
    "    for l1val, l2val in zip(list1,list2):\n",
    "        comb[l1val] = l2val\n",
    "    return comb       \n",
    "\n",
    "get_dict([\"NY\",\"NJ\", \"CT\"],[\"Albany\", \"Trenton\", \"Hartford\"])"
   ]
  },
  {
   "cell_type": "code",
   "execution_count": null,
   "metadata": {},
   "outputs": [],
   "source": [
    "'''Write a function that accepts one list of numbers \n",
    "and returns a tuple that contains two lists, \n",
    "split at the average of the original list\n",
    "\n",
    ">>> list_split([1,3,5,7,9,11,13])\n",
    "\n",
    "[1,3,5,7], [9,11,13]\n",
    "'''"
   ]
  },
  {
   "cell_type": "code",
   "execution_count": 28,
   "metadata": {},
   "outputs": [
    {
     "data": {
      "text/plain": [
       "([1, 3, 5], [7, 9, 11, 13])"
      ]
     },
     "execution_count": 28,
     "metadata": {},
     "output_type": "execute_result"
    }
   ],
   "source": [
    "def list_split(lst):\n",
    "    avg = sum(lst)/len(lst)\n",
    "    lst1,lst2 = list(),list()\n",
    "    \n",
    "    for i in lst:\n",
    "        lst1.append(i) if i < avg else lst2.append(i)\n",
    "    return lst1,lst2\n",
    "\n",
    "list_split([1,3,5,7,9,11,13])"
   ]
  },
  {
   "cell_type": "code",
   "execution_count": null,
   "metadata": {},
   "outputs": [],
   "source": [
    "'''\n",
    "Write a function that takes a positive integer N as input \n",
    "and returns a list of the first N elements of fizz buzz,\n",
    "which I'm calling a \"fizz buzz list\"\n",
    "\n",
    "\n",
    "fizz buzz is defined as \n",
    "     “fizz\" if the number is divisible by 3,\n",
    "    \"buzz\" if the number is divisible by 5,\n",
    "    “fizzbuzz” if the number is divisible by 15,\n",
    "    the number itself, otherwise.\n",
    "\n",
    "\n",
    "\n",
    ">> make_list(1)\n",
    "[1]\n",
    "\n",
    ">> make_list(3)\n",
    "[1,2,\"fizz]\n",
    "\n",
    ">> make_list(6)\n",
    "[1,2,\"fizz\",4,\"buzz\",\"fizz\"]\n",
    "'''"
   ]
  },
  {
   "cell_type": "code",
   "execution_count": 42,
   "metadata": {},
   "outputs": [
    {
     "data": {
      "text/plain": [
       "[1,\n",
       " 2,\n",
       " 'fizz',\n",
       " 4,\n",
       " 'buzz',\n",
       " 'fizz',\n",
       " 7,\n",
       " 8,\n",
       " 'fizz',\n",
       " 'buzz',\n",
       " 11,\n",
       " 'fizz',\n",
       " 13,\n",
       " 14,\n",
       " 'fizzbuzz']"
      ]
     },
     "execution_count": 42,
     "metadata": {},
     "output_type": "execute_result"
    }
   ],
   "source": [
    "def make_list(N):\n",
    "    val = list()\n",
    "    for i in range(1,N+1):\n",
    "        if i % 15 == 0: val.append('fizzbuzz')\n",
    "        elif i % 3 == 0: val.append('fizz')\n",
    "        elif i % 5 == 0: val.append('buzz')\n",
    "        else: val.append(i)\n",
    "        \n",
    "    return val\n",
    "\n",
    "make_list(15)"
   ]
  }
 ],
 "metadata": {
  "kernelspec": {
   "display_name": "Python 3.6",
   "language": "python",
   "name": "python36"
  },
  "language_info": {
   "codemirror_mode": {
    "name": "ipython",
    "version": 3
   },
   "file_extension": ".py",
   "mimetype": "text/x-python",
   "name": "python",
   "nbconvert_exporter": "python",
   "pygments_lexer": "ipython3",
   "version": "3.6.3"
  }
 },
 "nbformat": 4,
 "nbformat_minor": 2
}
