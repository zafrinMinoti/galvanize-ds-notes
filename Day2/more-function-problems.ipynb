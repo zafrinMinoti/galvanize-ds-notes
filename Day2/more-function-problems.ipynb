{
 "cells": [
  {
   "cell_type": "code",
   "execution_count": null,
   "metadata": {
    "collapsed": true
   },
   "outputs": [],
   "source": [
    "'''\n",
    "Write a Python function to sum all the numbers in a list.\n",
    "Sample List : [8, 2, 3, 0, 7]\n",
    "Expected Output : 20 \n",
    "'''"
   ]
  },
  {
   "cell_type": "code",
   "execution_count": null,
   "metadata": {},
   "outputs": [],
   "source": []
  },
  {
   "cell_type": "code",
   "execution_count": null,
   "metadata": {
    "collapsed": true
   },
   "outputs": [],
   "source": [
    "'''\n",
    "Write a Python function to multiply all the numbers in a list.\n",
    "Sample List : [8, 2, 3, -1, 7]\n",
    "Expected Output : -336 '''"
   ]
  },
  {
   "cell_type": "code",
   "execution_count": null,
   "metadata": {},
   "outputs": [],
   "source": []
  },
  {
   "cell_type": "code",
   "execution_count": null,
   "metadata": {
    "collapsed": true
   },
   "outputs": [],
   "source": [
    "'''\n",
    "Write a Python function that takes a list and returns a new list \n",
    "with unique elements of the first list. \n",
    "Sample List : [1,2,3,3,3,3,4,5]\n",
    "Unique List : [1, 2, 3, 4, 5]\n",
    "'''"
   ]
  },
  {
   "cell_type": "code",
   "execution_count": null,
   "metadata": {},
   "outputs": [],
   "source": []
  },
  {
   "cell_type": "code",
   "execution_count": null,
   "metadata": {
    "collapsed": true
   },
   "outputs": [],
   "source": [
    "'''\n",
    "Write a Python function that takes a number as a parameter and return a bool \n",
    "True if the number is prime, False otherwise. \n",
    "\n",
    "Note : A prime number (or a prime) is an integer greater than 1 \n",
    "and that has no positive divisors other than 1 and itself. \n",
    "'''"
   ]
  },
  {
   "cell_type": "code",
   "execution_count": null,
   "metadata": {
    "collapsed": true
   },
   "outputs": [],
   "source": []
  },
  {
   "cell_type": "code",
   "execution_count": null,
   "metadata": {
    "collapsed": true
   },
   "outputs": [],
   "source": [
    "'''\n",
    "Write a Python function that accepts a list and returns a new list of even numbers in the given list. \n",
    "Sample List : [1, 2, 3, 4, 5, 6, 7, 8, 9] \n",
    "Expected Result : [2, 4, 6, 8]\n",
    "\n",
    "'''"
   ]
  },
  {
   "cell_type": "code",
   "execution_count": null,
   "metadata": {
    "collapsed": true
   },
   "outputs": [],
   "source": []
  },
  {
   "cell_type": "code",
   "execution_count": null,
   "metadata": {
    "collapsed": true
   },
   "outputs": [],
   "source": [
    "'''\n",
    "Use list comprehensions for the examples below\n",
    "\n",
    "generate a list of multiples of 4 that are greater than 0 and less than 420\n",
    "\n",
    "generate a list of multiples of 5 that are greater than 0 and less than 310 that are *not* multiples of 10\n",
    "\n",
    "Build a list called odd_list of the first 1000 positive odd numbers \n",
    "print the last 10 elements of this list\n",
    "\n",
    "Build a list called even_list of the first 1000 positive even numbers\n",
    "print the first 10 elements of this list\n",
    "'''"
   ]
  },
  {
   "cell_type": "code",
   "execution_count": null,
   "metadata": {
    "collapsed": true
   },
   "outputs": [],
   "source": []
  }
 ],
 "metadata": {
  "kernelspec": {
   "display_name": "Python 3.6",
   "language": "python",
   "name": "python36"
  },
  "language_info": {
   "codemirror_mode": {
    "name": "ipython",
    "version": 3
   },
   "file_extension": ".py",
   "mimetype": "text/x-python",
   "name": "python",
   "nbconvert_exporter": "python",
   "pygments_lexer": "ipython3",
   "version": "3.6.3"
  }
 },
 "nbformat": 4,
 "nbformat_minor": 2
}
