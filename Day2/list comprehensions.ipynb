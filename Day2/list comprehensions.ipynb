{
 "cells": [
  {
   "cell_type": "markdown",
   "metadata": {},
   "source": [
    "Note: I love this video! It is a great intro/review for beginner Python. \n",
    "\n",
    "Python By Immersion : https://www.youtube.com/watch?v=9k5687mmnoc"
   ]
  },
  {
   "cell_type": "code",
   "execution_count": null,
   "metadata": {},
   "outputs": [],
   "source": [
    "#using list comprehension, \n",
    "#generate a list of multiples of 4 that are greater than 0 \n",
    "#and less than 420\n",
    "\n",
    "my_list = [x for x in range(1,420) if x%4 == 0]\n",
    "\n",
    "print(my_list)\n",
    "\n",
    "\n",
    "\n"
   ]
  },
  {
   "cell_type": "code",
   "execution_count": null,
   "metadata": {},
   "outputs": [],
   "source": [
    "#using list comprehension, \n",
    "#generate a list of multiples of 5 \n",
    "#that are greater than 0 and less than 310 \n",
    "#that are *not* multiples of 10\n",
    "\n",
    "my_list = [x for x in range(1,310) if x%10 != 0]\n",
    "print(my_list)"
   ]
  },
  {
   "cell_type": "code",
   "execution_count": null,
   "metadata": {},
   "outputs": [],
   "source": [
    "#Build a list called odd_list of the first 1000 positive odd numbers \n",
    "#print the last 10 elements of this list\n",
    "odd_list = [x for x in range(0,2000) if x%2 != 0]\n",
    "\n",
    "print(len(odd_list))\n",
    "print(odd_list[-10:])"
   ]
  },
  {
   "cell_type": "code",
   "execution_count": null,
   "metadata": {},
   "outputs": [],
   "source": [
    "#Build a list called even_list of the first 1000 positive even numbers\n",
    "#print the first 10 elements of this list\n",
    "even_list = [x for x in range(0,2000) if x%2 != 0]\n",
    "print(len(even_list))\n",
    "print(even_list[:10])"
   ]
  },
  {
   "cell_type": "code",
   "execution_count": null,
   "metadata": {},
   "outputs": [],
   "source": [
    "#Build a list of the first 200 elements of fizz buzz, which I'm calling a fizz buzz list\n",
    "\n",
    "def fizzbuzz(n):\n",
    "    if n % 3 == 0 and n % 5 == 0:\n",
    "        return('fizzbuzz')\n",
    "    elif n % 3 == 0:\n",
    "        return('fizz')\n",
    "    elif n % 5 == 0:\n",
    "        return('buzz')\n",
    "    else:\n",
    "        return(n)\n",
    "\n",
    "list = [fizzbuzz(n) for n in range(0,200)]\n",
    "        \n",
    "        \n",
    "print(list)"
   ]
  },
  {
   "cell_type": "code",
   "execution_count": null,
   "metadata": {
    "collapsed": true
   },
   "outputs": [],
   "source": [
    "# make a list of the first 100 prime numbers greater than zero"
   ]
  },
  {
   "cell_type": "code",
   "execution_count": null,
   "metadata": {},
   "outputs": [],
   "source": [
    "\n",
    "# what does prime mean? Divisible by 1 and itself. \n",
    "#1 is defined as not prime. 2 is defined as prime.\n",
    "# write it as a function!!\n",
    "\n",
    "def is_prime(number):\n",
    "    \n",
    "    if number == 1: return False\n",
    "    if number == 2: return True\n",
    "    \n",
    "    for i in range(2,number):\n",
    "        if number%i == 0: return False\n",
    "    return True\n",
    "\n"
   ]
  },
  {
   "cell_type": "code",
   "execution_count": null,
   "metadata": {},
   "outputs": [],
   "source": [
    "is_prime(-4)"
   ]
  },
  {
   "cell_type": "code",
   "execution_count": null,
   "metadata": {},
   "outputs": [],
   "source": [
    "# make a list of the first 100 prime numbers greater than zero\n",
    "#version 1\n",
    "\n",
    "#Once you know where to stop, now can do a list comprehension using your function is_prime()\n",
    "\n",
    "primes = [x for x in range(1,545) if is_prime(x)]\n",
    "print(primes) "
   ]
  },
  {
   "cell_type": "code",
   "execution_count": null,
   "metadata": {},
   "outputs": [],
   "source": [
    "# make a list of the first 100 prime numbers greater than zero\n",
    "#version 2\n",
    "\n",
    "#this looks like a function, but it is actually a generator!!\n",
    "def number_generator():\n",
    "    start = 1\n",
    "    while True:\n",
    "        yield start\n",
    "        start += 1\n",
    "\n",
    "num_gen = number_generator()\n",
    "\n",
    "\n",
    "primes = []\n",
    "while len(primes) < 100:\n",
    "    number = next(num_gen)\n",
    "    if is_prime(number):\n",
    "        primes.append(number)\n",
    "\n",
    "print(primes)\n"
   ]
  },
  {
   "cell_type": "code",
   "execution_count": null,
   "metadata": {
    "collapsed": true
   },
   "outputs": [],
   "source": []
  }
 ],
 "metadata": {
  "kernelspec": {
   "display_name": "Python 3.6",
   "language": "python",
   "name": "python36"
  },
  "language_info": {
   "codemirror_mode": {
    "name": "ipython",
    "version": 3
   },
   "file_extension": ".py",
   "mimetype": "text/x-python",
   "name": "python",
   "nbconvert_exporter": "python",
   "pygments_lexer": "ipython3",
   "version": "3.6.3"
  }
 },
 "nbformat": 4,
 "nbformat_minor": 2
}
